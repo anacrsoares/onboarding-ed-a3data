{
  "cells": [
    {
      "cell_type": "markdown",
      "metadata": {
        "id": "1qtUv3v6xncU"
      },
      "source": [
        "# Spark - Exercício prático\n",
        "\n",
        "Este notebook contém o exercício prático de Spark usando python. Você pode realizá-lo localmente em sua máquina (se estiver utilizando Linux) ou subir o código no Google Colab. Se estiver usando Windows, verifique o doc [2-2-spark-exercicios](2-2-spark-exercicios.md) para um tutorial de instalação do Spark no Windows.\n",
        "\n",
        "## Configuração do ambiente. \n",
        "\n",
        "As próximos células fazem a instalação e configuração do java-8 e do spark em sua máquina."
      ]
    },
    {
      "cell_type": "code",
      "execution_count": 1,
      "metadata": {
        "id": "2u1csdlnxncZ"
      },
      "outputs": [],
      "source": [
        "%%bash\n",
        "\n",
        "# Instal Java\n",
        "apt-get install openjdk-8-jdk-headless -qq > /dev/null\n",
        "\n",
        "# Install PySpark\n",
        "pip install -q pyspark"
      ]
    },
    {
      "cell_type": "code",
      "execution_count": 2,
      "metadata": {
        "id": "nlyUsglpxncb"
      },
      "outputs": [],
      "source": [
        "import os\n",
        "os.environ['JAVA_HOME'] = '/usr/lib/jvm/java-8-openjdk-amd64'\n",
        "\n",
        "from pyspark.sql import SparkSession\n",
        "\n",
        "spark = SparkSession.builder.master(\"local[*]\").getOrCreate()"
      ]
    },
    {
      "cell_type": "markdown",
      "metadata": {
        "id": "uIdxa0uBxncc"
      },
      "source": [
        "## 01 - Leitura de dados\n",
        "\n",
        "Para começar, faça a leitura do arquivo `titanic.csv` para o ambiente spark. Algumas informações importantes:\n",
        "\n",
        "- O arquivo tem \";\" como separador,\n",
        "- O arquivo possui os nomes das colunas na primeira linha,\n",
        "- O arquivo deve ser lido com os tipos corretos."
      ]
    },
    {
      "cell_type": "code",
      "execution_count": 3,
      "metadata": {
        "id": "aqTAHjRjxncd"
      },
      "outputs": [],
      "source": [
        "url = \"https://raw.githubusercontent.com/neylsoncrepalde/titanic_data_with_semicolon/main/titanic.csv\"\n",
        "\n",
        "# Desenvolva seu código de leitura aqui:\n",
        "\n",
        "from pyspark.sql import SparkSession\n",
        "from pyspark import SparkFiles\n",
        "\n",
        "spark = SparkSession.builder.master('local[*]').appName('Classify Urls').getOrCreate()\n",
        "url = \"https://raw.githubusercontent.com/neylsoncrepalde/titanic_data_with_semicolon/main/titanic.csv\"\n",
        "spark.sparkContext.addFile(url)\n",
        "df_titanic = spark.read.csv('file:///'+SparkFiles.get('titanic.csv'), header=True, sep=';')"
      ]
    },
    {
      "cell_type": "markdown",
      "metadata": {
        "id": "LgXEzxeJxncd"
      },
      "source": [
        "## 02 - Algumas análises preliminares\n",
        "\n",
        "Exiba na tela:\n",
        "\n",
        "1) O schema da tabela\n",
        "2) Os 10 primeiros casos\n",
        "3) Apenas as pessoas que sobreviveram\n",
        "4) Apenas as pessoas que não sobreviveram e eram do sexo masculino\n",
        "5) A média de tarifa paga para cada classe\n",
        "6) A média de tarifa paga para cada classe e sexo\n",
        "7) Número de sobreviventes por classe e sexo\n",
        "8) Número de sobreviventes por sexo e categorias de idade (as categorias de idade devem ser construídas como: abaixo de 18 = criança, entre 18 e 40 = jovem adulto, maior de 40 = adulto maduro)."
      ]
    },
    {
      "cell_type": "code",
      "execution_count": 4,
      "metadata": {
        "colab": {
          "base_uri": "https://localhost:8080/"
        },
        "id": "wBiwFQ05xnce",
        "outputId": "dbf9ff94-e5c8-441a-c787-542888271f73"
      },
      "outputs": [
        {
          "output_type": "stream",
          "name": "stdout",
          "text": [
            "root\n",
            " |-- PassengerId: string (nullable = true)\n",
            " |-- Survived: string (nullable = true)\n",
            " |-- Pclass: string (nullable = true)\n",
            " |-- Name: string (nullable = true)\n",
            " |-- Sex: string (nullable = true)\n",
            " |-- Age: string (nullable = true)\n",
            " |-- SibSp: string (nullable = true)\n",
            " |-- Parch: string (nullable = true)\n",
            " |-- Ticket: string (nullable = true)\n",
            " |-- Fare: string (nullable = true)\n",
            " |-- Cabin: string (nullable = true)\n",
            " |-- Embarked: string (nullable = true)\n",
            "\n"
          ]
        }
      ],
      "source": [
        "# 1)\n",
        "# Desenvolva sua resposta aqui:\n",
        "df_titanic.schema\n",
        "df_titanic.printSchema()"
      ]
    },
    {
      "cell_type": "code",
      "execution_count": 5,
      "metadata": {
        "colab": {
          "base_uri": "https://localhost:8080/"
        },
        "id": "_B2xEeLdxncf",
        "outputId": "224e4457-2c53-405f-9d13-405b246ae715"
      },
      "outputs": [
        {
          "output_type": "stream",
          "name": "stdout",
          "text": [
            "+-----------+--------+------+--------------------+------+----+-----+-----+----------------+-------+-----+--------+\n",
            "|PassengerId|Survived|Pclass|                Name|   Sex| Age|SibSp|Parch|          Ticket|   Fare|Cabin|Embarked|\n",
            "+-----------+--------+------+--------------------+------+----+-----+-----+----------------+-------+-----+--------+\n",
            "|          1|       0|     3|Braund, Mr. Owen ...|  male|22.0|    1|    0|       A/5 21171|   7.25| null|       S|\n",
            "|          2|       1|     1|Cumings, Mrs. Joh...|female|38.0|    1|    0|        PC 17599|71.2833|  C85|       C|\n",
            "|          3|       1|     3|Heikkinen, Miss. ...|female|26.0|    0|    0|STON/O2. 3101282|  7.925| null|       S|\n",
            "|          4|       1|     1|Futrelle, Mrs. Ja...|female|35.0|    1|    0|          113803|   53.1| C123|       S|\n",
            "|          5|       0|     3|Allen, Mr. Willia...|  male|35.0|    0|    0|          373450|   8.05| null|       S|\n",
            "|          6|       0|     3|    Moran, Mr. James|  male|null|    0|    0|          330877| 8.4583| null|       Q|\n",
            "|          7|       0|     1|McCarthy, Mr. Tim...|  male|54.0|    0|    0|           17463|51.8625|  E46|       S|\n",
            "|          8|       0|     3|Palsson, Master. ...|  male| 2.0|    3|    1|          349909| 21.075| null|       S|\n",
            "|          9|       1|     3|Johnson, Mrs. Osc...|female|27.0|    0|    2|          347742|11.1333| null|       S|\n",
            "|         10|       1|     2|Nasser, Mrs. Nich...|female|14.0|    1|    0|          237736|30.0708| null|       C|\n",
            "+-----------+--------+------+--------------------+------+----+-----+-----+----------------+-------+-----+--------+\n",
            "only showing top 10 rows\n",
            "\n"
          ]
        }
      ],
      "source": [
        "# 2)\n",
        "# Desenvolva sua resposta aqui:\n",
        "df_titanic.show(10)"
      ]
    },
    {
      "cell_type": "code",
      "execution_count": 6,
      "metadata": {
        "colab": {
          "base_uri": "https://localhost:8080/"
        },
        "id": "SzJhyLJvxncg",
        "outputId": "a8641df7-efb1-4585-8654-544b122d5965"
      },
      "outputs": [
        {
          "output_type": "stream",
          "name": "stdout",
          "text": [
            "+-----------+--------+------+--------------------+------+----+-----+-----+----------------+--------+-----+--------+\n",
            "|PassengerId|Survived|Pclass|                Name|   Sex| Age|SibSp|Parch|          Ticket|    Fare|Cabin|Embarked|\n",
            "+-----------+--------+------+--------------------+------+----+-----+-----+----------------+--------+-----+--------+\n",
            "|          2|       1|     1|Cumings, Mrs. Joh...|female|38.0|    1|    0|        PC 17599| 71.2833|  C85|       C|\n",
            "|          3|       1|     3|Heikkinen, Miss. ...|female|26.0|    0|    0|STON/O2. 3101282|   7.925| null|       S|\n",
            "|          4|       1|     1|Futrelle, Mrs. Ja...|female|35.0|    1|    0|          113803|    53.1| C123|       S|\n",
            "|          9|       1|     3|Johnson, Mrs. Osc...|female|27.0|    0|    2|          347742| 11.1333| null|       S|\n",
            "|         10|       1|     2|Nasser, Mrs. Nich...|female|14.0|    1|    0|          237736| 30.0708| null|       C|\n",
            "|         11|       1|     3|Sandstrom, Miss. ...|female| 4.0|    1|    1|         PP 9549|    16.7|   G6|       S|\n",
            "|         12|       1|     1|Bonnell, Miss. El...|female|58.0|    0|    0|          113783|   26.55| C103|       S|\n",
            "|         16|       1|     2|Hewlett, Mrs. (Ma...|female|55.0|    0|    0|          248706|    16.0| null|       S|\n",
            "|         18|       1|     2|Williams, Mr. Cha...|  male|null|    0|    0|          244373|    13.0| null|       S|\n",
            "|         20|       1|     3|Masselmani, Mrs. ...|female|null|    0|    0|            2649|   7.225| null|       C|\n",
            "|         22|       1|     2|Beesley, Mr. Lawr...|  male|34.0|    0|    0|          248698|    13.0|  D56|       S|\n",
            "|         23|       1|     3|\"McGowan, Miss. A...|female|15.0|    0|    0|          330923|  8.0292| null|       Q|\n",
            "|         24|       1|     1|Sloper, Mr. Willi...|  male|28.0|    0|    0|          113788|    35.5|   A6|       S|\n",
            "|         26|       1|     3|Asplund, Mrs. Car...|female|38.0|    1|    5|          347077| 31.3875| null|       S|\n",
            "|         29|       1|     3|\"O'Dwyer, Miss. E...|female|null|    0|    0|          330959|  7.8792| null|       Q|\n",
            "|         32|       1|     1|Spencer, Mrs. Wil...|female|null|    1|    0|        PC 17569|146.5208|  B78|       C|\n",
            "|         33|       1|     3|Glynn, Miss. Mary...|female|null|    0|    0|          335677|    7.75| null|       Q|\n",
            "|         37|       1|     3|    Mamee, Mr. Hanna|  male|null|    0|    0|            2677|  7.2292| null|       C|\n",
            "|         40|       1|     3|Nicola-Yarred, Mi...|female|14.0|    1|    0|            2651| 11.2417| null|       C|\n",
            "|         44|       1|     2|Laroche, Miss. Si...|female| 3.0|    1|    2|   SC/Paris 2123| 41.5792| null|       C|\n",
            "+-----------+--------+------+--------------------+------+----+-----+-----+----------------+--------+-----+--------+\n",
            "only showing top 20 rows\n",
            "\n"
          ]
        }
      ],
      "source": [
        "# 3)\n",
        "# Desenvolva sua resposta aqui:\n",
        "df_titanic.filter('Survived=1').show()"
      ]
    },
    {
      "cell_type": "code",
      "execution_count": 7,
      "metadata": {
        "colab": {
          "base_uri": "https://localhost:8080/"
        },
        "id": "hS1UgutPxncg",
        "outputId": "b1568ce2-5d3c-479e-c058-64b317fb5cd5"
      },
      "outputs": [
        {
          "output_type": "stream",
          "name": "stdout",
          "text": [
            "+-----------+--------+------+--------------------+----+----+-----+-----+---------------+-------+-----------+--------+\n",
            "|PassengerId|Survived|Pclass|                Name| Sex| Age|SibSp|Parch|         Ticket|   Fare|      Cabin|Embarked|\n",
            "+-----------+--------+------+--------------------+----+----+-----+-----+---------------+-------+-----------+--------+\n",
            "|          1|       0|     3|Braund, Mr. Owen ...|male|22.0|    1|    0|      A/5 21171|   7.25|       null|       S|\n",
            "|          5|       0|     3|Allen, Mr. Willia...|male|35.0|    0|    0|         373450|   8.05|       null|       S|\n",
            "|          6|       0|     3|    Moran, Mr. James|male|null|    0|    0|         330877| 8.4583|       null|       Q|\n",
            "|          7|       0|     1|McCarthy, Mr. Tim...|male|54.0|    0|    0|          17463|51.8625|        E46|       S|\n",
            "|          8|       0|     3|Palsson, Master. ...|male| 2.0|    3|    1|         349909| 21.075|       null|       S|\n",
            "|         13|       0|     3|Saundercock, Mr. ...|male|20.0|    0|    0|      A/5. 2151|   8.05|       null|       S|\n",
            "|         14|       0|     3|Andersson, Mr. An...|male|39.0|    1|    5|         347082| 31.275|       null|       S|\n",
            "|         17|       0|     3|Rice, Master. Eugene|male| 2.0|    4|    1|         382652| 29.125|       null|       Q|\n",
            "|         21|       0|     2|Fynney, Mr. Joseph J|male|35.0|    0|    0|         239865|   26.0|       null|       S|\n",
            "|         27|       0|     3|Emir, Mr. Farred ...|male|null|    0|    0|           2631|  7.225|       null|       C|\n",
            "|         28|       0|     1|Fortune, Mr. Char...|male|19.0|    3|    2|          19950|  263.0|C23 C25 C27|       S|\n",
            "|         30|       0|     3| Todoroff, Mr. Lalio|male|null|    0|    0|         349216| 7.8958|       null|       S|\n",
            "|         31|       0|     1|Uruchurtu, Don. M...|male|40.0|    0|    0|       PC 17601|27.7208|       null|       C|\n",
            "|         34|       0|     2|Wheadon, Mr. Edwa...|male|66.0|    0|    0|     C.A. 24579|   10.5|       null|       S|\n",
            "|         35|       0|     1|Meyer, Mr. Edgar ...|male|28.0|    1|    0|       PC 17604|82.1708|       null|       C|\n",
            "|         36|       0|     1|Holverson, Mr. Al...|male|42.0|    1|    0|         113789|   52.0|       null|       S|\n",
            "|         38|       0|     3|Cann, Mr. Ernest ...|male|21.0|    0|    0|     A./5. 2152|   8.05|       null|       S|\n",
            "|         43|       0|     3| Kraeff, Mr. Theodor|male|null|    0|    0|         349253| 7.8958|       null|       C|\n",
            "|         46|       0|     3|Rogers, Mr. Willi...|male|null|    0|    0|S.C./A.4. 23567|   8.05|       null|       S|\n",
            "|         47|       0|     3|   Lennon, Mr. Denis|male|null|    1|    0|         370371|   15.5|       null|       Q|\n",
            "+-----------+--------+------+--------------------+----+----+-----+-----+---------------+-------+-----------+--------+\n",
            "only showing top 20 rows\n",
            "\n"
          ]
        }
      ],
      "source": [
        "# 4)\n",
        "# Desenvolva sua resposta aqui:\n",
        "df_titanic.filter(\"Survived='0' and sex='male'\").show()"
      ]
    },
    {
      "cell_type": "code",
      "execution_count": 8,
      "metadata": {
        "colab": {
          "base_uri": "https://localhost:8080/"
        },
        "id": "ahynFx3gxnch",
        "outputId": "dde958b8-fc62-4943-a896-e7fe958065da"
      },
      "outputs": [
        {
          "output_type": "stream",
          "name": "stdout",
          "text": [
            "+------+------------------+\n",
            "|Pclass|         avg(Fare)|\n",
            "+------+------------------+\n",
            "|     3|13.675550210257411|\n",
            "|     1| 84.15468752825701|\n",
            "|     2| 20.66218318109927|\n",
            "+------+------------------+\n",
            "\n"
          ]
        }
      ],
      "source": [
        "# 5)\n",
        "# Desenvolva sua resposta aqui:\n",
        "from pyspark.sql.functions import col\n",
        "\n",
        "# Para converter todo o dataframe:\n",
        "#df_titanic.select(*(col(Fare).cast('numeric').alias(Fare) for Fare in df_titanic.columns)).printSchema()\n",
        "\n",
        "# Para converter somente a coluna requisitada:\n",
        "df_titanic = df_titanic.withColumn('Fare', col('Fare').cast('float')) # para exibir >> .printSchema()\n",
        "df_titanic.groupBy('Pclass').avg('Fare').show(10)"
      ]
    },
    {
      "cell_type": "code",
      "execution_count": 9,
      "metadata": {
        "colab": {
          "base_uri": "https://localhost:8080/"
        },
        "id": "Gf_H--q-xnch",
        "outputId": "4fea56f5-4b94-49a3-82a3-7420077ca822"
      },
      "outputs": [
        {
          "output_type": "stream",
          "name": "stdout",
          "text": [
            "+------+------+------------------+\n",
            "|Pclass|   Sex|         avg(Fare)|\n",
            "+------+------+------------------+\n",
            "|     2|female|21.970121095055028|\n",
            "|     2|  male|19.741782426834106|\n",
            "|     3|  male|12.661632678007186|\n",
            "|     1|  male| 67.22612723366159|\n",
            "|     1|female|106.12579769783832|\n",
            "|     3|female|16.118809819221497|\n",
            "+------+------+------------------+\n",
            "\n"
          ]
        }
      ],
      "source": [
        "# 6)\n",
        "# Desenvolva sua resposta aqui:\n",
        "df_titanic.groupBy('Pclass','Sex').avg('Fare').show(10)"
      ]
    },
    {
      "cell_type": "code",
      "execution_count": 12,
      "metadata": {
        "colab": {
          "base_uri": "https://localhost:8080/"
        },
        "id": "gfsjkLspxnci",
        "outputId": "e0bd23be-04b6-4309-84f8-8f0d426c0b71"
      },
      "outputs": [
        {
          "output_type": "stream",
          "name": "stdout",
          "text": [
            "+------+------+-------------+\n",
            "|Pclass|   Sex|sum(Survived)|\n",
            "+------+------+-------------+\n",
            "|     2|female|         70.0|\n",
            "|     2|  male|         17.0|\n",
            "|     3|  male|         47.0|\n",
            "|     1|  male|         45.0|\n",
            "|     1|female|         91.0|\n",
            "|     3|female|         72.0|\n",
            "+------+------+-------------+\n",
            "\n"
          ]
        }
      ],
      "source": [
        "# 7)\n",
        "# Desenvolva sua resposta aqui:\n",
        "df_titanic = df_titanic.withColumn('Survived', col('Survived').cast('float')) # para exibir >> .printSchema()\n",
        "df_titanic.groupBy('Pclass', 'Sex').sum('Survived').show(10)"
      ]
    },
    {
      "cell_type": "code",
      "execution_count": 11,
      "metadata": {
        "colab": {
          "base_uri": "https://localhost:8080/"
        },
        "id": "sHI_NIW1xnci",
        "outputId": "43635c28-b837-4218-d7e3-f82b29e4858c"
      },
      "outputs": [
        {
          "output_type": "stream",
          "name": "stdout",
          "text": [
            "+------+-------------+-----+\n",
            "|   Sex|          Age|count|\n",
            "+------+-------------+-----+\n",
            "|female|adulto maduro|   48|\n",
            "|  male|      criança|   58|\n",
            "|female|         null|   53|\n",
            "|female| jovem adulto|  158|\n",
            "|  male| jovem adulto|  293|\n",
            "|  male|         null|  124|\n",
            "|  male|adulto maduro|  102|\n",
            "|female|      criança|   55|\n",
            "+------+-------------+-----+\n",
            "\n"
          ]
        }
      ],
      "source": [
        "# 8)\n",
        "# Desenvolva sua resposta aqui:\n",
        "# abaixo de 18 = criança, entre 18 e 40 = jovem adulto, maior de 40 = adulto maduro\n",
        "df_titanic = df_titanic.withColumn('Age', col('Age').cast('float')) # para exibir >> .printSchema()\n",
        "\n",
        "from pyspark.sql.functions import when\n",
        "df_titanic = df_titanic.withColumn('Age', \\\n",
        "                      when(df_titanic['Age']<18, 'criança')\\\n",
        "                      .when(df_titanic['Age']==18, 'jovem adulto')\\\n",
        "                      .when(df_titanic['Age']<=40 , 'jovem adulto')\\\n",
        "                      .when(df_titanic['Age']>40 , 'adulto maduro')\n",
        "                      .otherwise(df_titanic['Age']))\n",
        "table_categ = df_titanic.groupBy('Sex', 'Age').count().show()"
      ]
    },
    {
      "cell_type": "markdown",
      "metadata": {
        "id": "3lcJGy-qxnci"
      },
      "source": [
        "## 03 - Escreve dados\n",
        "\n",
        "Faça uma seleção apenas das pessoas que sobreviveram e escreva os dados em um arquivo **parquet** particionado por sexo e classe."
      ]
    },
    {
      "cell_type": "code",
      "execution_count": 32,
      "metadata": {
        "colab": {
          "base_uri": "https://localhost:8080/"
        },
        "id": "BwVWyNRlxncj",
        "outputId": "d275b151-3be5-4d15-c494-7c92290e2ee0"
      },
      "outputs": [
        {
          "output_type": "stream",
          "name": "stdout",
          "text": [
            "+-----------+--------+-------------------------------------------------+----+-----+-----+--------+-------+-------+--------+\n",
            "|PassengerId|Survived|Name                                             |Age |SibSp|Parch|Ticket  |Fare   |Cabin  |Embarked|\n",
            "+-----------+--------+-------------------------------------------------+----+-----+-----+--------+-------+-------+--------+\n",
            "|24         |1       |Sloper, Mr. William Thompson                     |28.0|0    |0    |113788  |35.5   |A6     |S       |\n",
            "|56         |1       |Woolner, Mr. Hugh                                |null|0    |0    |19947   |35.5   |C52    |S       |\n",
            "|98         |1       |Greenfield, Mr. William Bertram                  |23.0|0    |1    |PC 17759|63.3583|D10 D12|C       |\n",
            "|188        |1       |\"Romaine, Mr. Charles Hallace (\"\"Mr C Rolmane\"\")\"|45.0|0    |0    |111428  |26.55  |null   |S       |\n",
            "|210        |1       |Blank, Mr. Henry                                 |40.0|0    |0    |112277  |31.0   |A31    |C       |\n",
            "|225        |1       |Hoyt, Mr. Frederick Maxfield                     |38.0|1    |0    |19943   |90.0   |C93    |S       |\n",
            "|249        |1       |Beckwith, Mr. Richard Leonard                    |37.0|1    |1    |11751   |52.5542|D35    |S       |\n",
            "|299        |1       |Saalfeld, Mr. Adolphe                            |null|0    |0    |19988   |30.5   |C106   |S       |\n",
            "|306        |1       |Allison, Master. Hudson Trevor                   |0.92|1    |2    |113781  |151.55 |C22 C26|S       |\n",
            "|371        |1       |Harder, Mr. George Achilles                      |25.0|1    |0    |11765   |55.4417|E50    |C       |\n",
            "|391        |1       |Carter, Mr. William Ernest                       |36.0|1    |2    |113760  |120.0  |B96 B98|S       |\n",
            "|431        |1       |Bjornstrom-Steffansson, Mr. Mauritz Hakan        |28.0|0    |0    |110564  |26.55  |C52    |S       |\n",
            "|446        |1       |Dodge, Master. Washington                        |4.0 |0    |2    |33638   |81.8583|A34    |S       |\n",
            "|448        |1       |Seward, Mr. Frederic Kimber                      |34.0|0    |0    |113794  |26.55  |null   |S       |\n",
            "|450        |1       |Peuchen, Major. Arthur Godfrey                   |52.0|0    |0    |113786  |30.5   |C104   |S       |\n",
            "|454        |1       |Goldenberg, Mr. Samuel L                         |49.0|1    |0    |17453   |89.1042|C92    |C       |\n",
            "|461        |1       |Anderson, Mr. Harry                              |48.0|0    |0    |19952   |26.55  |E12    |S       |\n",
            "|485        |1       |Bishop, Mr. Dickinson H                          |25.0|1    |0    |11967   |91.0792|B49    |C       |\n",
            "|508        |1       |\"Bradley, Mr. George (\"\"George Arthur Brayton\"\")\"|null|0    |0    |111427  |26.55  |null   |S       |\n",
            "|513        |1       |McGough, Mr. James Robert                        |36.0|0    |0    |PC 17473|26.2875|E25    |S       |\n",
            "+-----------+--------+-------------------------------------------------+----+-----+-----+--------+-------+-------+--------+\n",
            "only showing top 20 rows\n",
            "\n"
          ]
        }
      ],
      "source": [
        "# Desenvolva a resposta aqui...\n",
        "from pyspark.sql import Row\n",
        "\n",
        "df_titanic = spark.read.csv('file:///'+SparkFiles.get('titanic.csv'), header=True, sep=';')\n",
        "df_titanic = df_titanic.filter('Survived=1')\n",
        "\n",
        "titanic_parquet = df_titanic.write.partitionBy(\"Pclass\",\"Sex\").mode(\"overwrite\").parquet(\"/Users/anacr/onboarding-ed-a3data/3-spark/titanic.parquet\")\n",
        "\n",
        "#Ex.: Consulta Pclass=1 Sex=male\n",
        "titanic_parquet = spark.read.parquet(\"/Users/anacr/onboarding-ed-a3data/3-spark/titanic.parquet/Pclass=1/Sex=male\")\n",
        "titanic_parquet.show(truncate=False)"
      ]
    },
    {
      "cell_type": "code",
      "source": [
        ""
      ],
      "metadata": {
        "id": "ebhhWKLzysNX"
      },
      "execution_count": null,
      "outputs": []
    }
  ],
  "metadata": {
    "kernelspec": {
      "display_name": "Python 3",
      "language": "python",
      "name": "python3"
    },
    "language_info": {
      "codemirror_mode": {
        "name": "ipython",
        "version": 3
      },
      "file_extension": ".py",
      "mimetype": "text/x-python",
      "name": "python",
      "nbconvert_exporter": "python",
      "pygments_lexer": "ipython3",
      "version": "3.8.8"
    },
    "colab": {
      "name": "spark-notebook.ipynb",
      "provenance": [],
      "collapsed_sections": []
    }
  },
  "nbformat": 4,
  "nbformat_minor": 0
}